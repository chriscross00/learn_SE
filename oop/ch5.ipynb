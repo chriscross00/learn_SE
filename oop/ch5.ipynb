{
 "cells": [
  {
   "cell_type": "code",
   "execution_count": 9,
   "metadata": {},
   "outputs": [
    {
     "data": {
      "text/plain": [
       "'bright red'"
      ]
     },
     "execution_count": 9,
     "metadata": {},
     "output_type": "execute_result"
    }
   ],
   "source": [
    "# Using property function\n",
    "\n",
    "class Color:\n",
    "    \n",
    "    def __init__(self, rgb_value, name):\n",
    "        self.rgb_value = rgb_value\n",
    "        self._name = name\n",
    "       \n",
    "    def _set_name(self, name):\n",
    "        if not name:\n",
    "            raise Exception('Invalid name')\n",
    "        self._name = name\n",
    "\n",
    "    def _get_name(self):\n",
    "        return self._name\n",
    "\n",
    "    name = property(_get_name, _set_name)\n",
    "    \n",
    "    \n",
    "c = Color('#0000ff', 'bright red')\n",
    "c.name"
   ]
  },
  {
   "cell_type": "code",
   "execution_count": 10,
   "metadata": {},
   "outputs": [],
   "source": [
    "# Using decorator\n",
    "\n",
    "class Foo:\n",
    "    \n",
    "    @property\n",
    "    def foo(self):\n",
    "        return self._foo\n",
    "    \n",
    "    @foo.setter\n",
    "    def foo(self, value):\n",
    "        self._foo = value"
   ]
  },
  {
   "cell_type": "code",
   "execution_count": 12,
   "metadata": {},
   "outputs": [],
   "source": [
    "import os\n",
    "import sys\n",
    "import shutil\n",
    "import zipfile\n",
    "\n",
    "\n",
    "class ZipReplace:\n",
    "    \n",
    "    def __init__(self, filename, search_string, replace_string):\n",
    "        self.filename = filename\n",
    "        self.search_string = search_string\n",
    "        self.replace_string = replace_string\n",
    "        self.temp_dir = 'unzipped-{}'.format(filename)\n",
    "        \n",
    "    def _full_filename(self, filename):\n",
    "        return os.path.join(self.temp_directory, filename)\n",
    "    \n",
    "    def zip_find_replace(self):\n",
    "        self.unzip_files()\n",
    "        self.find_files()\n",
    "        self.zip_files()\n",
    "        \n",
    "    def unzip_files(self):\n",
    "        os.mkdir(self.temp_dir)\n",
    "        zip = zipfile.ZipFile(self.filename)\n",
    "        try:\n",
    "            zip.extractall(self.temp_dir)\n",
    "        finally:\n",
    "            zip.close()\n",
    "            \n",
    "    def find_replace(self):\n",
    "        for filename in os.listdir(self.temp_dir):\n",
    "            with open(self._full_filename(filename)) as file:\n",
    "                contents = file.read()\n",
    "            contents = contents.replace(self.search_string, self.replace_string)\n",
    "            with open(self._full_filename(filename), 'w') as file:\n",
    "                file.write(contents)\n",
    "                \n",
    "    def zip_files(self):\n",
    "        file = zipfile.ZipFile(self.filename, 'w')\n",
    "        for filename in os.listdir(self.temp_dir):\n",
    "            file.write(self._full_filename(filename), filename)\n",
    "        shutil.rmtree(self.temp_dir)\n",
    "\n",
    "if name == '__main__':\n",
    "    ZipReplace(*sys.argv[1:4]).zip_find_replace()"
   ]
  },
  {
   "cell_type": "code",
   "execution_count": null,
   "metadata": {},
   "outputs": [],
   "source": [
    "import os\n",
    "import shutil\n",
    "import zipfile\n",
    "\n",
    "\n",
    "class ZipProcessor:\n",
    "    \n",
    "    def __init__(self, zipname):\n",
    "        self.zipname = zipname\n",
    "        self.temp_dir = 'unzipped-{}'.format(zipname[:-4])\n",
    "        \n",
    "    def _full_filename(self, filename):\n",
    "        return os.path.join(self.temp_directory, filename)\n",
    "    \n",
    "    def process_zip(self):\n",
    "        self.unzip_files()\n",
    "        self.process_files()\n",
    "        self.zip_files()\n",
    "     \n",
    "    def unzip_files(self):\n",
    "        os.mkdir(self.temp_dir)\n",
    "        zip = zipfile.ZipFile(self.filename)\n",
    "        try:\n",
    "            zip.extractall(self.temp_dir)\n",
    "        finally:\n",
    "            zip.close()\n",
    "            \n",
    "                    \n",
    "    def zip_files(self):\n",
    "        file = zipfile.ZipFile(self.filename, 'w')\n",
    "        for filename in os.listdir(self.temp_dir):\n",
    "            file.write(self._full_filename(filename), filename)\n",
    "        shutil.rmtree(self.temp_dir)\n"
   ]
  }
 ],
 "metadata": {
  "kernelspec": {
   "display_name": "Python 3",
   "language": "python",
   "name": "python3"
  },
  "language_info": {
   "codemirror_mode": {
    "name": "ipython",
    "version": 3
   },
   "file_extension": ".py",
   "mimetype": "text/x-python",
   "name": "python",
   "nbconvert_exporter": "python",
   "pygments_lexer": "ipython3",
   "version": "3.7.0"
  }
 },
 "nbformat": 4,
 "nbformat_minor": 2
}
