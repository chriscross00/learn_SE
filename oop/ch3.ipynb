{
 "cells": [
  {
   "cell_type": "code",
   "execution_count": 1,
   "metadata": {},
   "outputs": [],
   "source": [
    "class Property:\n",
    "    \n",
    "    def __init__(self, square_feet='', beds='',\n",
    "                baths='', **kwargs):\n",
    "        super().__init__(**kwargs)\n",
    "        self.square_feet = square_feet\n",
    "        self.num_beds = beds\n",
    "        self.num_baths = baths\n",
    "        \n",
    "    def display(self):\n",
    "        print('PROPERTY DETAILS:\\n')\n",
    "        print(' square footage: {}\\n'.format(self.square_feet),\n",
    "              'bedrooms: {}\\n'.format(self.num_beds),\n",
    "              'bathrooms: {}\\n'.format(self.num_baths))\n",
    "        \n",
    "    def get_valid_input(input_str, valid_options):\n",
    "        input_str += ' ({})'.format(', '.join(valid_options))\n",
    "        response = input(input_str)\n",
    "        while response.lower() not in valid_options:\n",
    "            response = input(input_str)\n",
    "        return response\n",
    "        \n",
    "    def prompt_init():\n",
    "        return dict(square_feet = input('Enter the number of square feet: '),\n",
    "                   beds = input('Enter the number of beds: '),\n",
    "                   baths = input('Enter the number of baths: '))\n",
    "    prompt_init = staticmethod(prompt_init)\n",
    "    "
   ]
  },
  {
   "cell_type": "code",
   "execution_count": 2,
   "metadata": {},
   "outputs": [],
   "source": [
    "class Apartment(Property):\n",
    "\n",
    "    valid_balconies = ('yes', 'no', 'solarium')\n",
    "    valid_laundries = ('coin', 'ensuite', 'none')\n",
    "    \n",
    "    def __init__(self, balcony='', laundry='', **kwargs):\n",
    "        super().__init__(**kwargs)\n",
    "        self.balcony = balcony\n",
    "        self.laundry = laundry\n",
    "    \n",
    "    def prompt_init():\n",
    "        parent_init = Property.prompt_init()\n",
    "        laundry = get_valid_input('What laundry facilites does the property have?',\n",
    "                                 Apartment.valid_laundries)\n",
    "        balcony = get_valid_input('Does the property have a balcony?',\n",
    "                                 Apartment.valid_balconies)\n",
    "        parent_init.update({\n",
    "            'laundry': laundry,\n",
    "            'balcony': balcony\n",
    "        })\n",
    "        return parent_init\n",
    "    prompt_init = staticmethod(prompt_init)\n",
    "    "
   ]
  },
  {
   "cell_type": "code",
   "execution_count": 3,
   "metadata": {},
   "outputs": [],
   "source": [
    "class House(Property):\n",
    "    \n",
    "    valid_garge = ('attached', 'detached', 'none')\n",
    "    valid_fence = ('yes', 'no')\n",
    "    \n",
    "    def __init__(self, stories= '', garge='', fence='', **kwargs):\n",
    "        super().__init__(**kwargs)\n",
    "        self.garge = garge\n",
    "        self.fence = fence\n",
    "        self.stories = stories\n",
    "        \n",
    "    def display(self):\n",
    "        super().display()\n",
    "        print('HOUSE DETAILS \\n')\n",
    "        print('# of stories: {}\\n'.format(self.stories),\n",
    "             'garge: {}\\n'.format(self.garge),\n",
    "             'fence: {}\\n'.format(self.fence))\n",
    "    \n",
    "    def prompt_init():\n",
    "        parent_init = Property.prompt_init()\n",
    "        fence = get_valid_input('Is the yard fenced? ', House.valid_fence)\n",
    "        garge = get_valid_input('Does the house have a garge? ', House.valid_garge)\n",
    "        stories = input('How many stories?')\n",
    "        parent_init.update({\n",
    "            'fence': fence,\n",
    "            'garge': garge,\n",
    "            'stories': stories\n",
    "        })\n",
    "        return parent_init\n",
    "    prompt_init = staticmethod(prompt_init)\n",
    "    "
   ]
  },
  {
   "cell_type": "code",
   "execution_count": 4,
   "metadata": {},
   "outputs": [],
   "source": [
    "class Purchase:\n",
    "    \n",
    "    def __init__(self, price='', taxes='', **kwargs):\n",
    "        super.__init__(**kwargs)\n",
    "        self.price = price\n",
    "        self.taxes = taxes\n",
    "        \n",
    "    def display(self):\n",
    "        super().display()\n",
    "        print('PURCHASE DETAILS')\n",
    "        print('selling price: {}\\n'.format(self.price),\n",
    "             'estimated taxes: {}\\n'.format(self.taxes))\n",
    "        \n",
    "    def prompt_init():\n",
    "        return dict(\n",
    "            price = input('what is the selling price? '),\n",
    "            taxes = inpute('what is the estimated taxes? '))\n",
    "    prompt_init = staticmethod(prompt_init)\n"
   ]
  },
  {
   "cell_type": "code",
   "execution_count": 5,
   "metadata": {},
   "outputs": [],
   "source": [
    "class Rental:\n",
    "    \n",
    "    def __init__(self, furnished='', utilities='', rent='', **kwargs):\n",
    "        super().__init__(**kwargs)\n",
    "        self.furnished = furnished\n",
    "        self.utilities = utilities\n",
    "        self.rent = rent\n",
    "    \n",
    "    def display(self):\n",
    "        super().display()\n",
    "        print('RENTAL DETIALS')\n",
    "        print('rent: {}'.format(self.rent),\n",
    "             'estimated utilities: {}'.format(self.utilities),\n",
    "             'furnished: {}'.format(self.furnishd))\n",
    "        \n",
    "    def prompt_init():\n",
    "        return dict(\n",
    "            rent = input('What is the monthly rent? '),\n",
    "            utilities = input('What is the estimated utilities cost? '),\n",
    "            furnished = get_valid_input('is the property furnished?', ('yes', 'no')))\n",
    "    prompt_init = staticmethod(prompt_init)\n",
    "    "
   ]
  },
  {
   "cell_type": "code",
   "execution_count": 6,
   "metadata": {},
   "outputs": [],
   "source": [
    "class House_Rental(Rental, House):\n",
    "    \n",
    "    def prompt_init():\n",
    "        init = House.prompt_init()\n",
    "        init.update(Rental.prompt_init())\n",
    "        return init\n",
    "    prompt_init = staticmethod(prompt_init)\n"
   ]
  },
  {
   "cell_type": "code",
   "execution_count": null,
   "metadata": {},
   "outputs": [],
   "source": [
    "test1 = House_Rental.prompt_init()"
   ]
  },
  {
   "cell_type": "code",
   "execution_count": null,
   "metadata": {},
   "outputs": [],
   "source": [
    "house = House_Rental(**test1)"
   ]
  }
 ],
 "metadata": {
  "kernelspec": {
   "display_name": "Python 3",
   "language": "python",
   "name": "python3"
  },
  "language_info": {
   "codemirror_mode": {
    "name": "ipython",
    "version": 3
   },
   "file_extension": ".py",
   "mimetype": "text/x-python",
   "name": "python",
   "nbconvert_exporter": "python",
   "pygments_lexer": "ipython3",
   "version": "3.7.0"
  }
 },
 "nbformat": 4,
 "nbformat_minor": 2
}
