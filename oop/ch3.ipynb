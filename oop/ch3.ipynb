{
 "cells": [
  {
   "cell_type": "code",
   "execution_count": 45,
   "metadata": {},
   "outputs": [],
   "source": [
    "class Property:\n",
    "    \n",
    "    def __init__(self, square_feet='', beds='',\n",
    "                baths='', **kwargs):\n",
    "        super().__init__(**kwargs)\n",
    "        self.square_feet = square_feet\n",
    "        self.num_beds = beds\n",
    "        self.num_baths = baths\n",
    "        \n",
    "    def display(self):\n",
    "        print('PROPERTY DETAILS:\\n')\n",
    "        print(' square footage: {}\\n'.format(self.square_feet),\n",
    "              'bedrooms: {}\\n'.format(self.num_beds),\n",
    "              'bathrooms: {}\\n'.format(self.num_baths))\n",
    "        \n",
    "    def prompt_init():\n",
    "        return dict(square_feet = input('Enter the number of square feet: '),\n",
    "                   beds = input('Enter the number of beds: '),\n",
    "                   baths = input('Enter the number of baths: '))\n",
    "    prompt_init = staticmethod(prompt_init)"
   ]
  },
  {
   "cell_type": "code",
   "execution_count": 46,
   "metadata": {},
   "outputs": [],
   "source": [
    "class Apartment(Property):\n",
    "\n",
    "    valid_balconies = ('yes', 'no', 'solarium')\n",
    "    valid_laundries = ('coin', 'ensuite', 'none')\n",
    "    \n",
    "    def __init__(self, balcony='', laundry='', **kwargs):\n",
    "        super().__init__(**kwargs)\n",
    "        self.balcony = balcony\n",
    "        self.laundry = laundry\n",
    "        \n",
    "    def display(self):\n",
    "        super().display()\n",
    "        print('APARTMENT DETAILS')\n",
    "        print('has balcony: %s' % self.balcony,\n",
    "            'laundry: %s' % self.laundry)\n",
    "        \n",
    "        parent_init = Property.prompt_init"
   ]
  },
  {
   "cell_type": "code",
   "execution_count": 56,
   "metadata": {},
   "outputs": [],
   "source": [
    "class Triangle:\n",
    "    \n",
    "    def __init__(self, base, height):\n",
    "        self.base = base\n",
    "        self.height = height\n",
    "        super().__init__()\n",
    "        \n",
    "    def tri_area(self):\n",
    "        return 0.5 * self.base * self.height"
   ]
  },
  {
   "cell_type": "code",
   "execution_count": 57,
   "metadata": {},
   "outputs": [
    {
     "data": {
      "text/plain": [
       "(__main__.Right_Pyramid,\n",
       " __main__.Square,\n",
       " __main__.Rectangle,\n",
       " __main__.Triangle,\n",
       " object)"
      ]
     },
     "execution_count": 57,
     "metadata": {},
     "output_type": "execute_result"
    }
   ],
   "source": [
    "class Right_Pyramid(Square, Triangle):\n",
    "    \n",
    "    def __init__(self, base, slant_height):\n",
    "        self.base = base\n",
    "        self.slant_height = slant_height\n",
    "        super().__init__(self.base)\n",
    "        \n",
    "    def area(self):\n",
    "        base_area = super().area()\n",
    "        perimeter = super().perimeter()\n",
    "        return 0.5 * perimeter * self.slant_height + base_area\n",
    "    \n",
    "    def area_2(self):\n",
    "        base_area = super().area()\n",
    "        triangle_area = super().tri_area()\n",
    "        return triangle_area * 4 + base_area\n",
    "    \n",
    "Right_Pyramid.__mro__"
   ]
  }
 ],
 "metadata": {
  "kernelspec": {
   "display_name": "Python 3",
   "language": "python",
   "name": "python3"
  },
  "language_info": {
   "codemirror_mode": {
    "name": "ipython",
    "version": 3
   },
   "file_extension": ".py",
   "mimetype": "text/x-python",
   "name": "python",
   "nbconvert_exporter": "python",
   "pygments_lexer": "ipython3",
   "version": "3.7.0"
  }
 },
 "nbformat": 4,
 "nbformat_minor": 2
}
